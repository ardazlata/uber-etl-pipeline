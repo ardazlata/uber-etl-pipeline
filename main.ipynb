{
 "cells": [
  {
   "cell_type": "code",
   "execution_count": 1,
   "id": "initial_id",
   "metadata": {
    "collapsed": true,
    "ExecuteTime": {
     "end_time": "2023-10-01T13:30:45.758619400Z",
     "start_time": "2023-10-01T13:30:45.451194900Z"
    }
   },
   "outputs": [],
   "source": [
    "import pandas as pd"
   ]
  },
  {
   "cell_type": "code",
   "execution_count": 2,
   "outputs": [],
   "source": [
    "df = pd.read_csv('uber_data.csv')"
   ],
   "metadata": {
    "collapsed": false,
    "ExecuteTime": {
     "end_time": "2023-10-01T13:30:45.911511700Z",
     "start_time": "2023-10-01T13:30:45.759618900Z"
    }
   },
   "id": "e3abfcb651cbec0d"
  },
  {
   "cell_type": "code",
   "execution_count": 3,
   "outputs": [
    {
     "data": {
      "text/plain": "   VendorID tpep_pickup_datetime tpep_dropoff_datetime  passenger_count  \\\n0         1  2016-03-01 00:00:00   2016-03-01 00:07:55                1   \n1         1  2016-03-01 00:00:00   2016-03-01 00:11:06                1   \n2         2  2016-03-01 00:00:00   2016-03-01 00:31:06                2   \n3         2  2016-03-01 00:00:00   2016-03-01 00:00:00                3   \n4         2  2016-03-01 00:00:00   2016-03-01 00:00:00                5   \n\n   trip_distance  pickup_longitude  pickup_latitude  RatecodeID  \\\n0           2.50        -73.976746        40.765152           1   \n1           2.90        -73.983482        40.767925           1   \n2          19.98        -73.782021        40.644810           1   \n3          10.78        -73.863419        40.769814           1   \n4          30.43        -73.971741        40.792183           3   \n\n  store_and_fwd_flag  dropoff_longitude  dropoff_latitude  payment_type  \\\n0                  N         -74.004265         40.746128             1   \n1                  N         -74.005943         40.733166             1   \n2                  N         -73.974541         40.675770             1   \n3                  N         -73.969650         40.757767             1   \n4                  N         -74.177170         40.695053             1   \n\n   fare_amount  extra  mta_tax  tip_amount  tolls_amount  \\\n0          9.0    0.5      0.5        2.05          0.00   \n1         11.0    0.5      0.5        3.05          0.00   \n2         54.5    0.5      0.5        8.00          0.00   \n3         31.5    0.0      0.5        3.78          5.54   \n4         98.0    0.0      0.0        0.00         15.50   \n\n   improvement_surcharge  total_amount  \n0                    0.3         12.35  \n1                    0.3         15.35  \n2                    0.3         63.80  \n3                    0.3         41.62  \n4                    0.3        113.80  ",
      "text/html": "<div>\n<style scoped>\n    .dataframe tbody tr th:only-of-type {\n        vertical-align: middle;\n    }\n\n    .dataframe tbody tr th {\n        vertical-align: top;\n    }\n\n    .dataframe thead th {\n        text-align: right;\n    }\n</style>\n<table border=\"1\" class=\"dataframe\">\n  <thead>\n    <tr style=\"text-align: right;\">\n      <th></th>\n      <th>VendorID</th>\n      <th>tpep_pickup_datetime</th>\n      <th>tpep_dropoff_datetime</th>\n      <th>passenger_count</th>\n      <th>trip_distance</th>\n      <th>pickup_longitude</th>\n      <th>pickup_latitude</th>\n      <th>RatecodeID</th>\n      <th>store_and_fwd_flag</th>\n      <th>dropoff_longitude</th>\n      <th>dropoff_latitude</th>\n      <th>payment_type</th>\n      <th>fare_amount</th>\n      <th>extra</th>\n      <th>mta_tax</th>\n      <th>tip_amount</th>\n      <th>tolls_amount</th>\n      <th>improvement_surcharge</th>\n      <th>total_amount</th>\n    </tr>\n  </thead>\n  <tbody>\n    <tr>\n      <th>0</th>\n      <td>1</td>\n      <td>2016-03-01 00:00:00</td>\n      <td>2016-03-01 00:07:55</td>\n      <td>1</td>\n      <td>2.50</td>\n      <td>-73.976746</td>\n      <td>40.765152</td>\n      <td>1</td>\n      <td>N</td>\n      <td>-74.004265</td>\n      <td>40.746128</td>\n      <td>1</td>\n      <td>9.0</td>\n      <td>0.5</td>\n      <td>0.5</td>\n      <td>2.05</td>\n      <td>0.00</td>\n      <td>0.3</td>\n      <td>12.35</td>\n    </tr>\n    <tr>\n      <th>1</th>\n      <td>1</td>\n      <td>2016-03-01 00:00:00</td>\n      <td>2016-03-01 00:11:06</td>\n      <td>1</td>\n      <td>2.90</td>\n      <td>-73.983482</td>\n      <td>40.767925</td>\n      <td>1</td>\n      <td>N</td>\n      <td>-74.005943</td>\n      <td>40.733166</td>\n      <td>1</td>\n      <td>11.0</td>\n      <td>0.5</td>\n      <td>0.5</td>\n      <td>3.05</td>\n      <td>0.00</td>\n      <td>0.3</td>\n      <td>15.35</td>\n    </tr>\n    <tr>\n      <th>2</th>\n      <td>2</td>\n      <td>2016-03-01 00:00:00</td>\n      <td>2016-03-01 00:31:06</td>\n      <td>2</td>\n      <td>19.98</td>\n      <td>-73.782021</td>\n      <td>40.644810</td>\n      <td>1</td>\n      <td>N</td>\n      <td>-73.974541</td>\n      <td>40.675770</td>\n      <td>1</td>\n      <td>54.5</td>\n      <td>0.5</td>\n      <td>0.5</td>\n      <td>8.00</td>\n      <td>0.00</td>\n      <td>0.3</td>\n      <td>63.80</td>\n    </tr>\n    <tr>\n      <th>3</th>\n      <td>2</td>\n      <td>2016-03-01 00:00:00</td>\n      <td>2016-03-01 00:00:00</td>\n      <td>3</td>\n      <td>10.78</td>\n      <td>-73.863419</td>\n      <td>40.769814</td>\n      <td>1</td>\n      <td>N</td>\n      <td>-73.969650</td>\n      <td>40.757767</td>\n      <td>1</td>\n      <td>31.5</td>\n      <td>0.0</td>\n      <td>0.5</td>\n      <td>3.78</td>\n      <td>5.54</td>\n      <td>0.3</td>\n      <td>41.62</td>\n    </tr>\n    <tr>\n      <th>4</th>\n      <td>2</td>\n      <td>2016-03-01 00:00:00</td>\n      <td>2016-03-01 00:00:00</td>\n      <td>5</td>\n      <td>30.43</td>\n      <td>-73.971741</td>\n      <td>40.792183</td>\n      <td>3</td>\n      <td>N</td>\n      <td>-74.177170</td>\n      <td>40.695053</td>\n      <td>1</td>\n      <td>98.0</td>\n      <td>0.0</td>\n      <td>0.0</td>\n      <td>0.00</td>\n      <td>15.50</td>\n      <td>0.3</td>\n      <td>113.80</td>\n    </tr>\n  </tbody>\n</table>\n</div>"
     },
     "execution_count": 3,
     "metadata": {},
     "output_type": "execute_result"
    }
   ],
   "source": [
    "df.head()"
   ],
   "metadata": {
    "collapsed": false,
    "ExecuteTime": {
     "end_time": "2023-10-01T13:30:45.931733400Z",
     "start_time": "2023-10-01T13:30:45.914511100Z"
    }
   },
   "id": "48e2246716b1035c"
  },
  {
   "cell_type": "code",
   "execution_count": 4,
   "outputs": [
    {
     "name": "stdout",
     "output_type": "stream",
     "text": [
      "<class 'pandas.core.frame.DataFrame'>\n",
      "RangeIndex: 100000 entries, 0 to 99999\n",
      "Data columns (total 19 columns):\n",
      " #   Column                 Non-Null Count   Dtype  \n",
      "---  ------                 --------------   -----  \n",
      " 0   VendorID               100000 non-null  int64  \n",
      " 1   tpep_pickup_datetime   100000 non-null  object \n",
      " 2   tpep_dropoff_datetime  100000 non-null  object \n",
      " 3   passenger_count        100000 non-null  int64  \n",
      " 4   trip_distance          100000 non-null  float64\n",
      " 5   pickup_longitude       100000 non-null  float64\n",
      " 6   pickup_latitude        100000 non-null  float64\n",
      " 7   RatecodeID             100000 non-null  int64  \n",
      " 8   store_and_fwd_flag     100000 non-null  object \n",
      " 9   dropoff_longitude      100000 non-null  float64\n",
      " 10  dropoff_latitude       100000 non-null  float64\n",
      " 11  payment_type           100000 non-null  int64  \n",
      " 12  fare_amount            100000 non-null  float64\n",
      " 13  extra                  100000 non-null  float64\n",
      " 14  mta_tax                100000 non-null  float64\n",
      " 15  tip_amount             100000 non-null  float64\n",
      " 16  tolls_amount           100000 non-null  float64\n",
      " 17  improvement_surcharge  100000 non-null  float64\n",
      " 18  total_amount           100000 non-null  float64\n",
      "dtypes: float64(12), int64(4), object(3)\n",
      "memory usage: 14.5+ MB\n"
     ]
    }
   ],
   "source": [
    "df.info()"
   ],
   "metadata": {
    "collapsed": false,
    "ExecuteTime": {
     "end_time": "2023-10-01T13:30:45.993858300Z",
     "start_time": "2023-10-01T13:30:45.927732400Z"
    }
   },
   "id": "add85a9be67317d6"
  },
  {
   "cell_type": "code",
   "execution_count": 5,
   "outputs": [],
   "source": [
    "df['tpep_dropoff_datetime'] = pd.to_datetime(df['tpep_dropoff_datetime'])\n",
    "df['tpep_pickup_datetime'] = pd.to_datetime(df['tpep_pickup_datetime'])"
   ],
   "metadata": {
    "collapsed": false,
    "ExecuteTime": {
     "end_time": "2023-10-01T13:30:46.073136Z",
     "start_time": "2023-10-01T13:30:45.949858700Z"
    }
   },
   "id": "a87aad71079d4466"
  },
  {
   "cell_type": "code",
   "execution_count": 6,
   "outputs": [
    {
     "name": "stdout",
     "output_type": "stream",
     "text": [
      "<class 'pandas.core.frame.DataFrame'>\n",
      "RangeIndex: 100000 entries, 0 to 99999\n",
      "Data columns (total 19 columns):\n",
      " #   Column                 Non-Null Count   Dtype         \n",
      "---  ------                 --------------   -----         \n",
      " 0   VendorID               100000 non-null  int64         \n",
      " 1   tpep_pickup_datetime   100000 non-null  datetime64[ns]\n",
      " 2   tpep_dropoff_datetime  100000 non-null  datetime64[ns]\n",
      " 3   passenger_count        100000 non-null  int64         \n",
      " 4   trip_distance          100000 non-null  float64       \n",
      " 5   pickup_longitude       100000 non-null  float64       \n",
      " 6   pickup_latitude        100000 non-null  float64       \n",
      " 7   RatecodeID             100000 non-null  int64         \n",
      " 8   store_and_fwd_flag     100000 non-null  object        \n",
      " 9   dropoff_longitude      100000 non-null  float64       \n",
      " 10  dropoff_latitude       100000 non-null  float64       \n",
      " 11  payment_type           100000 non-null  int64         \n",
      " 12  fare_amount            100000 non-null  float64       \n",
      " 13  extra                  100000 non-null  float64       \n",
      " 14  mta_tax                100000 non-null  float64       \n",
      " 15  tip_amount             100000 non-null  float64       \n",
      " 16  tolls_amount           100000 non-null  float64       \n",
      " 17  improvement_surcharge  100000 non-null  float64       \n",
      " 18  total_amount           100000 non-null  float64       \n",
      "dtypes: datetime64[ns](2), float64(12), int64(4), object(1)\n",
      "memory usage: 14.5+ MB\n"
     ]
    }
   ],
   "source": [
    "df.info()"
   ],
   "metadata": {
    "collapsed": false,
    "ExecuteTime": {
     "end_time": "2023-10-01T13:30:46.073136Z",
     "start_time": "2023-10-01T13:30:46.027546400Z"
    }
   },
   "id": "cfef8879d81341cc"
  },
  {
   "cell_type": "code",
   "execution_count": 7,
   "outputs": [],
   "source": [
    "datetime_dimension = df[['tpep_pickup_datetime', 'tpep_dropoff_datetime']].drop_duplicates().reset_index(drop=True)\n",
    "datetime_dimension['date'] = datetime_dimension['tpep_pickup_datetime'].dt.date\n",
    "datetime_dimension['day'] = datetime_dimension['tpep_pickup_datetime'].dt.day\n",
    "datetime_dimension['month'] = datetime_dimension['tpep_pickup_datetime'].dt.month\n",
    "datetime_dimension['year'] = datetime_dimension['tpep_pickup_datetime'].dt.year\n",
    "datetime_dimension['hour'] = datetime_dimension['tpep_pickup_datetime'].dt.hour\n",
    "datetime_dimension['minute'] = datetime_dimension['tpep_pickup_datetime'].dt.minute\n",
    "datetime_dimension['weekday'] = datetime_dimension['tpep_pickup_datetime'].dt.weekday\n",
    "datetime_dimension['quarter'] = datetime_dimension['tpep_pickup_datetime'].dt.quarter\n",
    "datetime_dimension['is_weekend'] = datetime_dimension['weekday'].apply(lambda x: 1 if x >= 5 else 0)\n",
    "datetime_dimension['is_weekday'] = datetime_dimension['weekday'].apply(lambda x: 1 if x < 5 else 0)\n",
    "\n",
    "datetime_dimension = datetime_dimension[['tpep_pickup_datetime', 'tpep_dropoff_datetime', 'date', 'day', 'month', 'year', 'hour', 'minute', 'weekday', 'quarter', 'is_weekend', 'is_weekday']]\n"
   ],
   "metadata": {
    "collapsed": false,
    "ExecuteTime": {
     "end_time": "2023-10-01T13:30:46.137380100Z",
     "start_time": "2023-10-01T13:30:46.040136100Z"
    }
   },
   "id": "3dfb633e6f69e3d0"
  },
  {
   "cell_type": "code",
   "execution_count": 8,
   "outputs": [],
   "source": [
    "datetime_dimension.to_csv('datetime_dimension.csv', index=False)"
   ],
   "metadata": {
    "collapsed": false,
    "ExecuteTime": {
     "end_time": "2023-10-01T13:30:46.580256700Z",
     "start_time": "2023-10-01T13:30:46.138381200Z"
    }
   },
   "id": "ea462f19a6dd0fbc"
  },
  {
   "cell_type": "code",
   "execution_count": 9,
   "outputs": [
    {
     "data": {
      "text/plain": "  tpep_pickup_datetime tpep_dropoff_datetime        date  day  month  year  \\\n0  2016-03-01 00:00:00   2016-03-01 00:07:55  2016-03-01    1      3  2016   \n1  2016-03-01 00:00:00   2016-03-01 00:11:06  2016-03-01    1      3  2016   \n2  2016-03-01 00:00:00   2016-03-01 00:31:06  2016-03-01    1      3  2016   \n3  2016-03-01 00:00:00   2016-03-01 00:00:00  2016-03-01    1      3  2016   \n4  2016-03-01 00:00:01   2016-03-01 00:16:04  2016-03-01    1      3  2016   \n\n   hour  minute  weekday  quarter  is_weekend  is_weekday  \n0     0       0        1        1           0           1  \n1     0       0        1        1           0           1  \n2     0       0        1        1           0           1  \n3     0       0        1        1           0           1  \n4     0       0        1        1           0           1  ",
      "text/html": "<div>\n<style scoped>\n    .dataframe tbody tr th:only-of-type {\n        vertical-align: middle;\n    }\n\n    .dataframe tbody tr th {\n        vertical-align: top;\n    }\n\n    .dataframe thead th {\n        text-align: right;\n    }\n</style>\n<table border=\"1\" class=\"dataframe\">\n  <thead>\n    <tr style=\"text-align: right;\">\n      <th></th>\n      <th>tpep_pickup_datetime</th>\n      <th>tpep_dropoff_datetime</th>\n      <th>date</th>\n      <th>day</th>\n      <th>month</th>\n      <th>year</th>\n      <th>hour</th>\n      <th>minute</th>\n      <th>weekday</th>\n      <th>quarter</th>\n      <th>is_weekend</th>\n      <th>is_weekday</th>\n    </tr>\n  </thead>\n  <tbody>\n    <tr>\n      <th>0</th>\n      <td>2016-03-01 00:00:00</td>\n      <td>2016-03-01 00:07:55</td>\n      <td>2016-03-01</td>\n      <td>1</td>\n      <td>3</td>\n      <td>2016</td>\n      <td>0</td>\n      <td>0</td>\n      <td>1</td>\n      <td>1</td>\n      <td>0</td>\n      <td>1</td>\n    </tr>\n    <tr>\n      <th>1</th>\n      <td>2016-03-01 00:00:00</td>\n      <td>2016-03-01 00:11:06</td>\n      <td>2016-03-01</td>\n      <td>1</td>\n      <td>3</td>\n      <td>2016</td>\n      <td>0</td>\n      <td>0</td>\n      <td>1</td>\n      <td>1</td>\n      <td>0</td>\n      <td>1</td>\n    </tr>\n    <tr>\n      <th>2</th>\n      <td>2016-03-01 00:00:00</td>\n      <td>2016-03-01 00:31:06</td>\n      <td>2016-03-01</td>\n      <td>1</td>\n      <td>3</td>\n      <td>2016</td>\n      <td>0</td>\n      <td>0</td>\n      <td>1</td>\n      <td>1</td>\n      <td>0</td>\n      <td>1</td>\n    </tr>\n    <tr>\n      <th>3</th>\n      <td>2016-03-01 00:00:00</td>\n      <td>2016-03-01 00:00:00</td>\n      <td>2016-03-01</td>\n      <td>1</td>\n      <td>3</td>\n      <td>2016</td>\n      <td>0</td>\n      <td>0</td>\n      <td>1</td>\n      <td>1</td>\n      <td>0</td>\n      <td>1</td>\n    </tr>\n    <tr>\n      <th>4</th>\n      <td>2016-03-01 00:00:01</td>\n      <td>2016-03-01 00:16:04</td>\n      <td>2016-03-01</td>\n      <td>1</td>\n      <td>3</td>\n      <td>2016</td>\n      <td>0</td>\n      <td>0</td>\n      <td>1</td>\n      <td>1</td>\n      <td>0</td>\n      <td>1</td>\n    </tr>\n  </tbody>\n</table>\n</div>"
     },
     "execution_count": 9,
     "metadata": {},
     "output_type": "execute_result"
    }
   ],
   "source": [
    "datetime_dimension.head()"
   ],
   "metadata": {
    "collapsed": false,
    "ExecuteTime": {
     "end_time": "2023-10-01T13:30:46.592823900Z",
     "start_time": "2023-10-01T13:30:46.581257500Z"
    }
   },
   "id": "188493e49e5fddfd"
  },
  {
   "cell_type": "code",
   "execution_count": 10,
   "outputs": [],
   "source": [
    "passenger_count_dimension = df[['passenger_count']].drop_duplicates().reset_index(drop=True)\n",
    "passenger_count_dimension['passenger_count_id'] = passenger_count_dimension.index + 1\n",
    "passenger_count_dimension = passenger_count_dimension[['passenger_count_id', 'passenger_count']]\n",
    "\n",
    "trip_distance_dimension = df[['trip_distance']].drop_duplicates().reset_index(drop=True)\n",
    "trip_distance_dimension['trip_distance_id'] = trip_distance_dimension.index + 1\n",
    "trip_distance_dimension = trip_distance_dimension[['trip_distance_id', 'trip_distance']]"
   ],
   "metadata": {
    "collapsed": false,
    "ExecuteTime": {
     "end_time": "2023-10-01T13:30:46.599557800Z",
     "start_time": "2023-10-01T13:30:46.588822300Z"
    }
   },
   "id": "3c49495426446c8e"
  },
  {
   "cell_type": "code",
   "execution_count": 11,
   "outputs": [],
   "source": [
    "passenger_count_dimension.to_csv('passenger_count_dimension.csv', index=False)\n",
    "trip_distance_dimension.to_csv('trip_distance_dimension.csv', index=False)"
   ],
   "metadata": {
    "collapsed": false,
    "ExecuteTime": {
     "end_time": "2023-10-01T13:30:46.636084100Z",
     "start_time": "2023-10-01T13:30:46.599557800Z"
    }
   },
   "id": "632b09beb7969e23"
  },
  {
   "cell_type": "code",
   "execution_count": 12,
   "outputs": [
    {
     "data": {
      "text/plain": "   passenger_count_id  passenger_count\n0                   1                1\n1                   2                2\n2                   3                3\n3                   4                5\n4                   5                6",
      "text/html": "<div>\n<style scoped>\n    .dataframe tbody tr th:only-of-type {\n        vertical-align: middle;\n    }\n\n    .dataframe tbody tr th {\n        vertical-align: top;\n    }\n\n    .dataframe thead th {\n        text-align: right;\n    }\n</style>\n<table border=\"1\" class=\"dataframe\">\n  <thead>\n    <tr style=\"text-align: right;\">\n      <th></th>\n      <th>passenger_count_id</th>\n      <th>passenger_count</th>\n    </tr>\n  </thead>\n  <tbody>\n    <tr>\n      <th>0</th>\n      <td>1</td>\n      <td>1</td>\n    </tr>\n    <tr>\n      <th>1</th>\n      <td>2</td>\n      <td>2</td>\n    </tr>\n    <tr>\n      <th>2</th>\n      <td>3</td>\n      <td>3</td>\n    </tr>\n    <tr>\n      <th>3</th>\n      <td>4</td>\n      <td>5</td>\n    </tr>\n    <tr>\n      <th>4</th>\n      <td>5</td>\n      <td>6</td>\n    </tr>\n  </tbody>\n</table>\n</div>"
     },
     "execution_count": 12,
     "metadata": {},
     "output_type": "execute_result"
    }
   ],
   "source": [
    "passenger_count_dimension.head()"
   ],
   "metadata": {
    "collapsed": false,
    "ExecuteTime": {
     "end_time": "2023-10-01T13:30:46.683047300Z",
     "start_time": "2023-10-01T13:30:46.609379900Z"
    }
   },
   "id": "7b4e682c64a9acc4"
  },
  {
   "cell_type": "code",
   "execution_count": 13,
   "outputs": [
    {
     "data": {
      "text/plain": "   trip_distance_id  trip_distance\n0                 1           2.50\n1                 2           2.90\n2                 3          19.98\n3                 4          10.78\n4                 5          30.43",
      "text/html": "<div>\n<style scoped>\n    .dataframe tbody tr th:only-of-type {\n        vertical-align: middle;\n    }\n\n    .dataframe tbody tr th {\n        vertical-align: top;\n    }\n\n    .dataframe thead th {\n        text-align: right;\n    }\n</style>\n<table border=\"1\" class=\"dataframe\">\n  <thead>\n    <tr style=\"text-align: right;\">\n      <th></th>\n      <th>trip_distance_id</th>\n      <th>trip_distance</th>\n    </tr>\n  </thead>\n  <tbody>\n    <tr>\n      <th>0</th>\n      <td>1</td>\n      <td>2.50</td>\n    </tr>\n    <tr>\n      <th>1</th>\n      <td>2</td>\n      <td>2.90</td>\n    </tr>\n    <tr>\n      <th>2</th>\n      <td>3</td>\n      <td>19.98</td>\n    </tr>\n    <tr>\n      <th>3</th>\n      <td>4</td>\n      <td>10.78</td>\n    </tr>\n    <tr>\n      <th>4</th>\n      <td>5</td>\n      <td>30.43</td>\n    </tr>\n  </tbody>\n</table>\n</div>"
     },
     "execution_count": 13,
     "metadata": {},
     "output_type": "execute_result"
    }
   ],
   "source": [
    "trip_distance_dimension.head()"
   ],
   "metadata": {
    "collapsed": false,
    "ExecuteTime": {
     "end_time": "2023-10-01T13:30:46.700050600Z",
     "start_time": "2023-10-01T13:30:46.615147600Z"
    }
   },
   "id": "fd0547521822b451"
  },
  {
   "cell_type": "code",
   "execution_count": 14,
   "outputs": [],
   "source": [
    "rate_code_dimension = df[['RatecodeID']].drop_duplicates().reset_index(drop=True)\n",
    "rate_code_dimension['rate_code_id'] = rate_code_dimension.index + 1\n",
    "rate_code_dimension = rate_code_dimension[['rate_code_id', 'RatecodeID']]\n",
    "rate_code_dimension = rate_code_dimension.rename(columns={'RatecodeID': 'rate_code'})\n",
    "rate_code_dimension['rate_code'] = rate_code_dimension['rate_code'].astype(str)\n",
    "rate_code_dimension['rate_code'] = rate_code_dimension['rate_code'].replace(\n",
    "    {\n",
    "        '1': 'Standard rate', '2': 'JFK', '3': 'Newark', '4': 'Nassau or Westchester', '5': 'Negotiated fare', '6': 'Group ride'\n",
    "    })\n",
    "\n",
    "\n",
    "rate_code_dimension['rate_code_name'] = rate_code_dimension['rate_code'].map(lambda x: x.split(' ')[0])\n",
    "store_and_fwd_flag_dimension = df[['store_and_fwd_flag']].drop_duplicates().reset_index(drop=True)\n",
    "store_and_fwd_flag_dimension['store_and_fwd_flag_id'] = store_and_fwd_flag_dimension.index + 1\n",
    "store_and_fwd_flag_dimension = store_and_fwd_flag_dimension[['store_and_fwd_flag_id', 'store_and_fwd_flag']]\n",
    "store_and_fwd_flag_dimension = store_and_fwd_flag_dimension.rename(columns={'store_and_fwd_flag': 'store_and_fwd_flag_name'})\n",
    "store_and_fwd_flag_dimension['store_and_fwd_flag_name'] = store_and_fwd_flag_dimension['store_and_fwd_flag_name'].replace({'N': 'No', 'Y': 'Yes'})"
   ],
   "metadata": {
    "collapsed": false,
    "ExecuteTime": {
     "end_time": "2023-10-01T13:30:46.700050600Z",
     "start_time": "2023-10-01T13:30:46.622608900Z"
    }
   },
   "id": "8c12324a3833d979"
  },
  {
   "cell_type": "code",
   "execution_count": 15,
   "outputs": [],
   "source": [
    "rate_code_dimension.to_csv('rate_code_dimension.csv', index=False)"
   ],
   "metadata": {
    "collapsed": false,
    "ExecuteTime": {
     "end_time": "2023-10-01T13:30:46.700050600Z",
     "start_time": "2023-10-01T13:30:46.631728400Z"
    }
   },
   "id": "372affeb2021e81b"
  },
  {
   "cell_type": "code",
   "execution_count": 16,
   "outputs": [
    {
     "data": {
      "text/plain": "   rate_code_id              rate_code rate_code_name\n0             1          Standard rate       Standard\n1             2                 Newark         Newark\n2             3                    JFK            JFK\n3             4        Negotiated fare     Negotiated\n4             5  Nassau or Westchester         Nassau",
      "text/html": "<div>\n<style scoped>\n    .dataframe tbody tr th:only-of-type {\n        vertical-align: middle;\n    }\n\n    .dataframe tbody tr th {\n        vertical-align: top;\n    }\n\n    .dataframe thead th {\n        text-align: right;\n    }\n</style>\n<table border=\"1\" class=\"dataframe\">\n  <thead>\n    <tr style=\"text-align: right;\">\n      <th></th>\n      <th>rate_code_id</th>\n      <th>rate_code</th>\n      <th>rate_code_name</th>\n    </tr>\n  </thead>\n  <tbody>\n    <tr>\n      <th>0</th>\n      <td>1</td>\n      <td>Standard rate</td>\n      <td>Standard</td>\n    </tr>\n    <tr>\n      <th>1</th>\n      <td>2</td>\n      <td>Newark</td>\n      <td>Newark</td>\n    </tr>\n    <tr>\n      <th>2</th>\n      <td>3</td>\n      <td>JFK</td>\n      <td>JFK</td>\n    </tr>\n    <tr>\n      <th>3</th>\n      <td>4</td>\n      <td>Negotiated fare</td>\n      <td>Negotiated</td>\n    </tr>\n    <tr>\n      <th>4</th>\n      <td>5</td>\n      <td>Nassau or Westchester</td>\n      <td>Nassau</td>\n    </tr>\n  </tbody>\n</table>\n</div>"
     },
     "execution_count": 16,
     "metadata": {},
     "output_type": "execute_result"
    }
   ],
   "source": [
    "rate_code_dimension.head()"
   ],
   "metadata": {
    "collapsed": false,
    "ExecuteTime": {
     "end_time": "2023-10-01T13:30:46.701049200Z",
     "start_time": "2023-10-01T13:30:46.635082900Z"
    }
   },
   "id": "c2744314b3f74825"
  },
  {
   "cell_type": "code",
   "execution_count": 17,
   "outputs": [],
   "source": [
    "payment_type_dimension = df[['payment_type']].drop_duplicates().reset_index(drop=True)\n",
    "payment_type_dimension['payment_type_id'] = payment_type_dimension.index + 1\n",
    "payment_type_dimension = payment_type_dimension[['payment_type_id', 'payment_type']]"
   ],
   "metadata": {
    "collapsed": false,
    "ExecuteTime": {
     "end_time": "2023-10-01T13:30:46.701049200Z",
     "start_time": "2023-10-01T13:30:46.641942100Z"
    }
   },
   "id": "48defcf8d9bb6fb0"
  },
  {
   "cell_type": "code",
   "execution_count": 18,
   "outputs": [],
   "source": [
    "payment_type_dimension.to_csv('payment_type_dimension.csv', index=False)"
   ],
   "metadata": {
    "collapsed": false,
    "ExecuteTime": {
     "end_time": "2023-10-01T13:30:46.718792800Z",
     "start_time": "2023-10-01T13:30:46.648784Z"
    }
   },
   "id": "6bdc8d2d07266c9f"
  },
  {
   "cell_type": "code",
   "execution_count": 19,
   "outputs": [
    {
     "data": {
      "text/plain": "   payment_type_id  payment_type\n0                1             1\n1                2             2\n2                3             3\n3                4             4",
      "text/html": "<div>\n<style scoped>\n    .dataframe tbody tr th:only-of-type {\n        vertical-align: middle;\n    }\n\n    .dataframe tbody tr th {\n        vertical-align: top;\n    }\n\n    .dataframe thead th {\n        text-align: right;\n    }\n</style>\n<table border=\"1\" class=\"dataframe\">\n  <thead>\n    <tr style=\"text-align: right;\">\n      <th></th>\n      <th>payment_type_id</th>\n      <th>payment_type</th>\n    </tr>\n  </thead>\n  <tbody>\n    <tr>\n      <th>0</th>\n      <td>1</td>\n      <td>1</td>\n    </tr>\n    <tr>\n      <th>1</th>\n      <td>2</td>\n      <td>2</td>\n    </tr>\n    <tr>\n      <th>2</th>\n      <td>3</td>\n      <td>3</td>\n    </tr>\n    <tr>\n      <th>3</th>\n      <td>4</td>\n      <td>4</td>\n    </tr>\n  </tbody>\n</table>\n</div>"
     },
     "execution_count": 19,
     "metadata": {},
     "output_type": "execute_result"
    }
   ],
   "source": [
    "payment_type_dimension.head()"
   ],
   "metadata": {
    "collapsed": false,
    "ExecuteTime": {
     "end_time": "2023-10-01T13:30:46.718792800Z",
     "start_time": "2023-10-01T13:30:46.653388800Z"
    }
   },
   "id": "6e2dc51fe6e5d1e3"
  },
  {
   "cell_type": "code",
   "execution_count": 20,
   "outputs": [],
   "source": [
    "vendor_id_dimension = df[['VendorID']].drop_duplicates().reset_index(drop=True)\n",
    "vendor_id_dimension['vendor_id'] = vendor_id_dimension.index + 1\n",
    "vendor_id_dimension = vendor_id_dimension[['vendor_id', 'VendorID']]\n",
    "vendor_id_dimension = vendor_id_dimension.rename(columns={'VendorID': 'vendor_name'})\n",
    "vendor_id_dimension['vendor_name'] = vendor_id_dimension['vendor_name'].replace({'1': 'Creative Mobile Technologies', '2': 'VeriFone Inc'})"
   ],
   "metadata": {
    "collapsed": false,
    "ExecuteTime": {
     "end_time": "2023-10-01T13:30:46.718792800Z",
     "start_time": "2023-10-01T13:30:46.660290Z"
    }
   },
   "id": "7fcbf9a0a60ef134"
  },
  {
   "cell_type": "code",
   "execution_count": 30,
   "outputs": [],
   "source": [
    "fact_table = df.merge(passenger_count_dimension, on='passenger_count') \\\n",
    "    .merge(trip_distance_dimension, on='trip_distance') \\\n",
    "    .merge(payment_type_dimension, on='payment_type') \\\n",
    "    [['VendorID', 'passenger_count_id',\n",
    "      'trip_distance_id', 'RatecodeID',\n",
    "      'payment_type_id', 'fare_amount', 'extra', 'mta_tax', 'tip_amount',\n",
    "      'improvement_surcharge', 'total_amount']]\n",
    "\n",
    "fact_table = fact_table.rename(columns={'VendorID': 'vendor_id', 'RatecodeID': 'rate_code_id', 'total_amount': 'amount'})"
   ],
   "metadata": {
    "collapsed": false,
    "ExecuteTime": {
     "end_time": "2023-10-01T13:32:55.745671600Z",
     "start_time": "2023-10-01T13:32:55.647334700Z"
    }
   },
   "id": "664fe2e362348622"
  },
  {
   "cell_type": "code",
   "execution_count": 31,
   "outputs": [
    {
     "data": {
      "text/plain": "   vendor_id  passenger_count_id  trip_distance_id  rate_code_id  \\\n0          1                   1                 1             1   \n1          2                   1                 1             1   \n2          2                   1                 1             1   \n3          2                   1                 1             1   \n4          2                   1                 1             1   \n\n   payment_type_id  fare_amount  extra  mta_tax  tip_amount  \\\n0                1          9.0    0.5      0.5        2.05   \n1                1         10.5    0.0      0.5        2.26   \n2                1          9.5    0.0      0.5        1.25   \n3                1         13.5    0.0      0.5        2.00   \n4                1         10.5    0.0      0.5        2.26   \n\n   improvement_surcharge  amount  \n0                    0.3   12.35  \n1                    0.3   13.56  \n2                    0.3   11.55  \n3                    0.3   16.30  \n4                    0.3   13.56  ",
      "text/html": "<div>\n<style scoped>\n    .dataframe tbody tr th:only-of-type {\n        vertical-align: middle;\n    }\n\n    .dataframe tbody tr th {\n        vertical-align: top;\n    }\n\n    .dataframe thead th {\n        text-align: right;\n    }\n</style>\n<table border=\"1\" class=\"dataframe\">\n  <thead>\n    <tr style=\"text-align: right;\">\n      <th></th>\n      <th>vendor_id</th>\n      <th>passenger_count_id</th>\n      <th>trip_distance_id</th>\n      <th>rate_code_id</th>\n      <th>payment_type_id</th>\n      <th>fare_amount</th>\n      <th>extra</th>\n      <th>mta_tax</th>\n      <th>tip_amount</th>\n      <th>improvement_surcharge</th>\n      <th>amount</th>\n    </tr>\n  </thead>\n  <tbody>\n    <tr>\n      <th>0</th>\n      <td>1</td>\n      <td>1</td>\n      <td>1</td>\n      <td>1</td>\n      <td>1</td>\n      <td>9.0</td>\n      <td>0.5</td>\n      <td>0.5</td>\n      <td>2.05</td>\n      <td>0.3</td>\n      <td>12.35</td>\n    </tr>\n    <tr>\n      <th>1</th>\n      <td>2</td>\n      <td>1</td>\n      <td>1</td>\n      <td>1</td>\n      <td>1</td>\n      <td>10.5</td>\n      <td>0.0</td>\n      <td>0.5</td>\n      <td>2.26</td>\n      <td>0.3</td>\n      <td>13.56</td>\n    </tr>\n    <tr>\n      <th>2</th>\n      <td>2</td>\n      <td>1</td>\n      <td>1</td>\n      <td>1</td>\n      <td>1</td>\n      <td>9.5</td>\n      <td>0.0</td>\n      <td>0.5</td>\n      <td>1.25</td>\n      <td>0.3</td>\n      <td>11.55</td>\n    </tr>\n    <tr>\n      <th>3</th>\n      <td>2</td>\n      <td>1</td>\n      <td>1</td>\n      <td>1</td>\n      <td>1</td>\n      <td>13.5</td>\n      <td>0.0</td>\n      <td>0.5</td>\n      <td>2.00</td>\n      <td>0.3</td>\n      <td>16.30</td>\n    </tr>\n    <tr>\n      <th>4</th>\n      <td>2</td>\n      <td>1</td>\n      <td>1</td>\n      <td>1</td>\n      <td>1</td>\n      <td>10.5</td>\n      <td>0.0</td>\n      <td>0.5</td>\n      <td>2.26</td>\n      <td>0.3</td>\n      <td>13.56</td>\n    </tr>\n  </tbody>\n</table>\n</div>"
     },
     "execution_count": 31,
     "metadata": {},
     "output_type": "execute_result"
    }
   ],
   "source": [
    "fact_table.head()"
   ],
   "metadata": {
    "collapsed": false,
    "ExecuteTime": {
     "end_time": "2023-10-01T13:32:56.364247900Z",
     "start_time": "2023-10-01T13:32:56.350460300Z"
    }
   },
   "id": "f382ffb4e741fbfd"
  },
  {
   "cell_type": "code",
   "execution_count": null,
   "outputs": [],
   "source": [],
   "metadata": {
    "collapsed": false,
    "ExecuteTime": {
     "start_time": "2023-10-01T13:30:46.849157800Z"
    }
   },
   "id": "8f259dc027212c79"
  }
 ],
 "metadata": {
  "kernelspec": {
   "display_name": "Python 3",
   "language": "python",
   "name": "python3"
  },
  "language_info": {
   "codemirror_mode": {
    "name": "ipython",
    "version": 2
   },
   "file_extension": ".py",
   "mimetype": "text/x-python",
   "name": "python",
   "nbconvert_exporter": "python",
   "pygments_lexer": "ipython2",
   "version": "2.7.6"
  }
 },
 "nbformat": 4,
 "nbformat_minor": 5
}
